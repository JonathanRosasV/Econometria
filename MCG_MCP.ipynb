{
  "nbformat": 4,
  "nbformat_minor": 0,
  "metadata": {
    "colab": {
      "provenance": []
    },
    "kernelspec": {
      "name": "python3",
      "display_name": "Python 3"
    },
    "language_info": {
      "name": "python"
    }
  },
  "cells": [
    {
      "cell_type": "code",
      "source": [
        "robust_model = smf.ols(\"y ~ x\", data=data).fit(cov_type='HC3')  # HC3 = robusto\n",
        "print(\"\\n**OLS con errores estándar robustos**\")\n",
        "print(robust_model.summary())\n"
      ],
      "metadata": {
        "colab": {
          "base_uri": "https://localhost:8080/"
        },
        "id": "emROQpSr41BL",
        "outputId": "0b9fc1e4-8d50-4ee8-b2bd-2b8467d5d006"
      },
      "execution_count": null,
      "outputs": [
        {
          "output_type": "stream",
          "name": "stdout",
          "text": [
            "\n",
            "**OLS con errores estándar robustos**\n",
            "                            OLS Regression Results                            \n",
            "==============================================================================\n",
            "Dep. Variable:                      y   R-squared:                       0.481\n",
            "Model:                            OLS   Adj. R-squared:                  0.476\n",
            "Method:                 Least Squares   F-statistic:                     73.80\n",
            "Date:                Wed, 18 Dec 2024   Prob (F-statistic):           1.37e-13\n",
            "Time:                        03:50:24   Log-Likelihood:                -305.82\n",
            "No. Observations:                 100   AIC:                             615.6\n",
            "Df Residuals:                      98   BIC:                             620.8\n",
            "Df Model:                           1                                         \n",
            "Covariance Type:                  HC3                                         \n",
            "==============================================================================\n",
            "                 coef    std err          z      P>|z|      [0.025      0.975]\n",
            "------------------------------------------------------------------------------\n",
            "Intercept      5.3601      0.834      6.428      0.000       3.726       6.994\n",
            "x              1.8608      0.217      8.591      0.000       1.436       2.285\n",
            "==============================================================================\n",
            "Omnibus:                        9.181   Durbin-Watson:                   2.150\n",
            "Prob(Omnibus):                  0.010   Jarque-Bera (JB):               18.037\n",
            "Skew:                           0.231   Prob(JB):                     0.000121\n",
            "Kurtosis:                       5.028   Cond. No.                         13.2\n",
            "==============================================================================\n",
            "\n",
            "Notes:\n",
            "[1] Standard Errors are heteroscedasticity robust (HC3)\n"
          ]
        }
      ]
    },
    {
      "cell_type": "code",
      "source": [
        "robust_model = smf.ols(\"y ~ x\", data=data).fit(cov_type='HC3')  # HC3 = robusto\n",
        "print(\"\\n**OLS con errores estándar robustos**\")\n",
        "print(robust_model.summary())\n"
      ],
      "metadata": {
        "colab": {
          "base_uri": "https://localhost:8080/"
        },
        "id": "KpQh9ylq4oRD",
        "outputId": "ef371763-32d0-4ef3-d244-8a1c00c938d8"
      },
      "execution_count": null,
      "outputs": [
        {
          "output_type": "stream",
          "name": "stdout",
          "text": [
            "\n",
            "**OLS con errores estándar robustos**\n",
            "                            OLS Regression Results                            \n",
            "==============================================================================\n",
            "Dep. Variable:                      y   R-squared:                       0.481\n",
            "Model:                            OLS   Adj. R-squared:                  0.476\n",
            "Method:                 Least Squares   F-statistic:                     73.80\n",
            "Date:                Wed, 18 Dec 2024   Prob (F-statistic):           1.37e-13\n",
            "Time:                        03:49:32   Log-Likelihood:                -305.82\n",
            "No. Observations:                 100   AIC:                             615.6\n",
            "Df Residuals:                      98   BIC:                             620.8\n",
            "Df Model:                           1                                         \n",
            "Covariance Type:                  HC3                                         \n",
            "==============================================================================\n",
            "                 coef    std err          z      P>|z|      [0.025      0.975]\n",
            "------------------------------------------------------------------------------\n",
            "Intercept      5.3601      0.834      6.428      0.000       3.726       6.994\n",
            "x              1.8608      0.217      8.591      0.000       1.436       2.285\n",
            "==============================================================================\n",
            "Omnibus:                        9.181   Durbin-Watson:                   2.150\n",
            "Prob(Omnibus):                  0.010   Jarque-Bera (JB):               18.037\n",
            "Skew:                           0.231   Prob(JB):                     0.000121\n",
            "Kurtosis:                       5.028   Cond. No.                         13.2\n",
            "==============================================================================\n",
            "\n",
            "Notes:\n",
            "[1] Standard Errors are heteroscedasticity robust (HC3)\n"
          ]
        }
      ]
    },
    {
      "cell_type": "code",
      "source": [
        "weights = 1 / x  # Pesos inversamente proporcionales a x\n",
        "wls_model = smf.wls(\"y ~ x\", data=data, weights=weights).fit()\n",
        "print(\"\\n**MCP (WLS)**\")\n",
        "print(wls_model.summary())"
      ],
      "metadata": {
        "colab": {
          "base_uri": "https://localhost:8080/"
        },
        "id": "XcS3hBEb4aaB",
        "outputId": "95c13e84-bb9c-4f75-a150-2cc995a70066"
      },
      "execution_count": null,
      "outputs": [
        {
          "output_type": "stream",
          "name": "stdout",
          "text": [
            "\n",
            "**MCP (WLS)**\n",
            "                            WLS Regression Results                            \n",
            "==============================================================================\n",
            "Dep. Variable:                      y   R-squared:                       0.554\n",
            "Model:                            WLS   Adj. R-squared:                  0.549\n",
            "Method:                 Least Squares   F-statistic:                     121.7\n",
            "Date:                Wed, 18 Dec 2024   Prob (F-statistic):           7.12e-19\n",
            "Time:                        03:48:51   Log-Likelihood:                -286.96\n",
            "No. Observations:                 100   AIC:                             577.9\n",
            "Df Residuals:                      98   BIC:                             583.1\n",
            "Df Model:                           1                                         \n",
            "Covariance Type:            nonrobust                                         \n",
            "==============================================================================\n",
            "                 coef    std err          t      P>|t|      [0.025      0.975]\n",
            "------------------------------------------------------------------------------\n",
            "Intercept      5.8106      0.700      8.305      0.000       4.422       7.199\n",
            "x              1.7747      0.161     11.031      0.000       1.455       2.094\n",
            "==============================================================================\n",
            "Omnibus:                        3.667   Durbin-Watson:                   2.234\n",
            "Prob(Omnibus):                  0.160   Jarque-Bera (JB):                3.175\n",
            "Skew:                           0.285   Prob(JB):                        0.204\n",
            "Kurtosis:                       3.662   Cond. No.                         8.11\n",
            "==============================================================================\n",
            "\n",
            "Notes:\n",
            "[1] Standard Errors assume that the covariance matrix of the errors is correctly specified.\n"
          ]
        }
      ]
    },
    {
      "cell_type": "code",
      "source": [
        "ols_model = smf.ols(\"y ~ x\", data=data).fit()\n",
        "print(\"**OLS (MCO)**\")\n",
        "print(ols_model.summary())"
      ],
      "metadata": {
        "colab": {
          "base_uri": "https://localhost:8080/"
        },
        "id": "G8VsmDQ14T9K",
        "outputId": "0e9c4dc0-596d-4e55-f916-aa89d9ba0277"
      },
      "execution_count": null,
      "outputs": [
        {
          "output_type": "stream",
          "name": "stdout",
          "text": [
            "**OLS (MCO)**\n",
            "                            OLS Regression Results                            \n",
            "==============================================================================\n",
            "Dep. Variable:                      y   R-squared:                       0.481\n",
            "Model:                            OLS   Adj. R-squared:                  0.476\n",
            "Method:                 Least Squares   F-statistic:                     90.76\n",
            "Date:                Wed, 18 Dec 2024   Prob (F-statistic):           1.29e-15\n",
            "Time:                        03:48:16   Log-Likelihood:                -305.82\n",
            "No. Observations:                 100   AIC:                             615.6\n",
            "Df Residuals:                      98   BIC:                             620.8\n",
            "Df Model:                           1                                         \n",
            "Covariance Type:            nonrobust                                         \n",
            "==============================================================================\n",
            "                 coef    std err          t      P>|t|      [0.025      0.975]\n",
            "------------------------------------------------------------------------------\n",
            "Intercept      5.3601      1.147      4.674      0.000       3.084       7.636\n",
            "x              1.8608      0.195      9.527      0.000       1.473       2.248\n",
            "==============================================================================\n",
            "Omnibus:                        9.181   Durbin-Watson:                   2.150\n",
            "Prob(Omnibus):                  0.010   Jarque-Bera (JB):               18.037\n",
            "Skew:                           0.231   Prob(JB):                     0.000121\n",
            "Kurtosis:                       5.028   Cond. No.                         13.2\n",
            "==============================================================================\n",
            "\n",
            "Notes:\n",
            "[1] Standard Errors assume that the covariance matrix of the errors is correctly specified.\n"
          ]
        }
      ]
    },
    {
      "cell_type": "code",
      "source": [
        "plt.scatter(x, y, alpha=0.7, color='blue')\n",
        "plt.title(\"Relación entre x e y con heterocedasticidad\")\n",
        "plt.xlabel(\"x\")\n",
        "plt.ylabel(\"y\")\n",
        "plt.show()"
      ],
      "metadata": {
        "colab": {
          "base_uri": "https://localhost:8080/",
          "height": 472
        },
        "id": "DpsFi54p4FOt",
        "outputId": "e0c1b09c-e966-4c7d-a0fc-a5922eac4702"
      },
      "execution_count": null,
      "outputs": [
        {
          "output_type": "display_data",
          "data": {
            "text/plain": [
              "<Figure size 640x480 with 1 Axes>"
            ],
            "image/png": "[encoded data removed]"
          },
          "metadata": {}
        }
      ]
    },
    {
      "cell_type": "code",
      "source": [
        "data = pd.DataFrame({'x': x, 'y': y})"
      ],
      "metadata": {
        "id": "uJSEvSwR3-TG"
      },
      "execution_count": null,
      "outputs": []
    },
    {
      "cell_type": "code",
      "source": [
        "np.random.seed(42)\n",
        "n = 100\n",
        "x = np.random.uniform(1, 10, n)  # Variable independiente\n",
        "u = np.random.normal(0, x)       # Heterocedasticidad: varianza de u depende de x\n",
        "y = 5 + 2*x + u                  # Modelo: y = 5 + 2x + u"
      ],
      "metadata": {
        "id": "sS3o1JK533X1"
      },
      "execution_count": null,
      "outputs": []
    },
    {
      "cell_type": "code",
      "execution_count": null,
      "metadata": {
        "id": "08wha8-e3rTN"
      },
      "outputs": [],
      "source": [
        "import numpy as np\n",
        "import pandas as pd\n",
        "import statsmodels.api as sm\n",
        "import statsmodels.formula.api as smf\n",
        "import matplotlib.pyplot as plt"
      ]
    }
  ]
}